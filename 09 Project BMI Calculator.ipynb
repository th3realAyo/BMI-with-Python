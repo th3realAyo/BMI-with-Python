{
 "cells": [
  {
   "cell_type": "code",
   "execution_count": 14,
   "id": "8733036a",
   "metadata": {},
   "outputs": [
    {
     "name": "stdout",
     "output_type": "stream",
     "text": [
      "Enter your name: Dami\n",
      "Enter your weight in pounds: 180\n",
      "Enter your height in inches: 78\n",
      "20.8\n",
      "Dami, You're normal weight\n"
     ]
    }
   ],
   "source": [
    "name = str(input(\"Enter your name: \"))\n",
    "\n",
    "weight = int(input(\"Enter your weight in pounds: \"))\n",
    "\n",
    "height = int(input(\"Enter your height in inches: \"))\n",
    "\n",
    "BMI = round((weight * 703) / (height * height), 1)\n",
    "\n",
    "print(BMI)\n",
    "\n",
    "\n",
    "if BMI > 0:\n",
    "    if BMI < 18.5:\n",
    "        print(name + \",\" + \" You're underweight\")\n",
    "    elif BMI <= 24.9:\n",
    "        print(name + \",\" + \" You're normal weight\")\n",
    "    elif BMI < 29.9:\n",
    "        print(name + \",\" + \" You're overweight\")\n",
    "    elif BMI <= 34.9:\n",
    "        print(name + \",\" + \" You're obese\")\n",
    "    elif BMI <= 39.9:\n",
    "        print(name + \",\" + \" You're severely obese\")\n",
    "    else:\n",
    "        print(name + \",\" + \"You're morbidly obese\")\n",
    "else:\n",
    "    print(\"Enter valid input\")"
   ]
  }
 ],
 "metadata": {
  "kernelspec": {
   "display_name": "Python 3 (ipykernel)",
   "language": "python",
   "name": "python3"
  },
  "language_info": {
   "codemirror_mode": {
    "name": "ipython",
    "version": 3
   },
   "file_extension": ".py",
   "mimetype": "text/x-python",
   "name": "python",
   "nbconvert_exporter": "python",
   "pygments_lexer": "ipython3",
   "version": "3.11.5"
  }
 },
 "nbformat": 4,
 "nbformat_minor": 5
}
