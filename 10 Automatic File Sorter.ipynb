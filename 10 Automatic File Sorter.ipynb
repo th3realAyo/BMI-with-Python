{
 "cells": [
  {
   "cell_type": "code",
   "execution_count": 1,
   "id": "f83a89a9",
   "metadata": {},
   "outputs": [
    {
     "data": {
      "text/plain": [
       "'C:\\\\Users\\\\AYO_AYO\\\\Desktop\\\\Bluechip Data Science\\\\DS\\\\My Learning\\\\IPYNB Files\\\\Data Analytics'"
      ]
     },
     "execution_count": 1,
     "metadata": {},
     "output_type": "execute_result"
    }
   ],
   "source": [
    "import os, shutil\n",
    "\n",
    "os.getcwd()"
   ]
  },
  {
   "cell_type": "code",
   "execution_count": 2,
   "id": "0d312b35",
   "metadata": {},
   "outputs": [],
   "source": [
    "path = r'C:/Users/AYO_AYO/Desktop/Bluechip Data Science/DS/My Learning/IPYNB Files/Data Analytics/'"
   ]
  },
  {
   "cell_type": "code",
   "execution_count": 5,
   "id": "d91ebab4",
   "metadata": {},
   "outputs": [],
   "source": [
    "file_name = os.listdir()"
   ]
  },
  {
   "cell_type": "code",
   "execution_count": 6,
   "id": "3434e0e1",
   "metadata": {},
   "outputs": [],
   "source": [
    "folder_names = ['Image', 'Photoshop', 'PDF']\n",
    "\n",
    "for loop in range(len(folder_names)):\n",
    "    if not os.path.exists(path + folder_names[loop]):\n",
    "        os.makedirs(path + folder_names[loop])"
   ]
  },
  {
   "cell_type": "code",
   "execution_count": 7,
   "id": "f02b965c",
   "metadata": {},
   "outputs": [
    {
     "name": "stdout",
     "output_type": "stream",
     "text": [
      "Folder error\n",
      "Folder error\n",
      "Folder error\n",
      "Folder error\n",
      "Folder error\n",
      "Folder error\n",
      "Folder error\n",
      "Folder error\n",
      "Folder error\n",
      "Folder error\n",
      "Folder error\n",
      "Folder error\n",
      "Folder error\n"
     ]
    }
   ],
   "source": [
    "for file in file_name:\n",
    "    if \".jpg\" in file and not os.path.exists(path + \"Image/\" + file):\n",
    "        shutil.move(path + file, path + \"Image/\" + file)\n",
    "    elif \".psd\" in file and not os.path.exists(path + \"Photoshop/\" + file):\n",
    "        shutil.move(path + file, path + \"Photoshop/\" + file)\n",
    "    elif \".pdf\" in file and not os.path.exists(path + \"PDF/\" + file):\n",
    "        shutil.move(path + file, path + \"PDF/\" + file)\n",
    "    else:\n",
    "        print(\"Folder error\")"
   ]
  },
  {
   "cell_type": "code",
   "execution_count": null,
   "id": "8080718d",
   "metadata": {},
   "outputs": [],
   "source": []
  },
  {
   "cell_type": "code",
   "execution_count": 8,
   "id": "e8395dee",
   "metadata": {},
   "outputs": [
    {
     "name": "stdout",
     "output_type": "stream",
     "text": [
      "vendor 40260\n",
      "my own 34160\n",
      "profit -52140\n"
     ]
    }
   ],
   "source": [
    "vendor = 330\n",
    "me = 280\n",
    "cust = 122\n",
    "vc = vendor * cust\n",
    "print('vendor', vc)\n",
    "print ('my own', me * cust)\n",
    "print('profit', (vendor * cust) - (vendor * me))"
   ]
  },
  {
   "cell_type": "code",
   "execution_count": null,
   "id": "503c7dbc",
   "metadata": {},
   "outputs": [],
   "source": []
  },
  {
   "cell_type": "code",
   "execution_count": null,
   "id": "7f627db9",
   "metadata": {},
   "outputs": [],
   "source": []
  },
  {
   "cell_type": "code",
   "execution_count": null,
   "id": "e985797e",
   "metadata": {},
   "outputs": [],
   "source": []
  },
  {
   "cell_type": "code",
   "execution_count": null,
   "id": "ad419894",
   "metadata": {},
   "outputs": [],
   "source": []
  }
 ],
 "metadata": {
  "kernelspec": {
   "display_name": "Python 3 (ipykernel)",
   "language": "python",
   "name": "python3"
  },
  "language_info": {
   "codemirror_mode": {
    "name": "ipython",
    "version": 3
   },
   "file_extension": ".py",
   "mimetype": "text/x-python",
   "name": "python",
   "nbconvert_exporter": "python",
   "pygments_lexer": "ipython3",
   "version": "3.11.5"
  }
 },
 "nbformat": 4,
 "nbformat_minor": 5
}
